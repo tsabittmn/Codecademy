{
 "cells": [
  {
   "cell_type": "markdown",
   "id": "6353f4a2",
   "metadata": {},
   "source": [
    "Import modules"
   ]
  },
  {
   "cell_type": "code",
   "execution_count": 32,
   "id": "19c3252a",
   "metadata": {},
   "outputs": [],
   "source": [
    "import pandas as pd\n",
    "import matplotlib.pyplot as plt\n",
    "from sklearn.cluster import KMeans\n",
    "from sklearn.metrics import accuracy_score\n",
    "import joblib"
   ]
  },
  {
   "cell_type": "markdown",
   "id": "75aad86e",
   "metadata": {},
   "source": [
    "Load dataset"
   ]
  },
  {
   "cell_type": "code",
   "execution_count": 33,
   "id": "c90c64a2",
   "metadata": {},
   "outputs": [
    {
     "name": "stdout",
     "output_type": "stream",
     "text": [
      "          food  calories  proteins  carbs  fats  category\n",
      "0        Apple        52       0.0     13     0         0\n",
      "1       Banana        89       1.0     23     0         0\n",
      "2  Blueberries        57       0.0     14     0         0\n",
      "3     Broccoli        34       2.0      7     0         0\n",
      "4   Brown rice       356       7.0     72     3         1\n"
     ]
    }
   ],
   "source": [
    "carbs_df = pd.read_csv(\"carbs.csv\")\n",
    "print(carbs_df.head())"
   ]
  },
  {
   "cell_type": "markdown",
   "id": "c98d03b6",
   "metadata": {},
   "source": [
    "Create X and y and scale data"
   ]
  },
  {
   "cell_type": "code",
   "execution_count": 34,
   "id": "1aa38deb",
   "metadata": {},
   "outputs": [],
   "source": [
    "X = carbs_df.iloc[:,1:5]\n",
    "y = carbs_df.iloc[:,5]"
   ]
  },
  {
   "cell_type": "markdown",
   "id": "8be4888e",
   "metadata": {},
   "source": [
    "Define, train, and predict model"
   ]
  },
  {
   "cell_type": "code",
   "execution_count": 35,
   "id": "2124cc19",
   "metadata": {},
   "outputs": [
    {
     "name": "stdout",
     "output_type": "stream",
     "text": [
      "[0 0 0 0 1 0 0 1 1 0 0 0 1 0 0 1 0 1 0 1 0]\n",
      "Score: 0.8571428571428571\n"
     ]
    }
   ],
   "source": [
    "model = KMeans(n_clusters=2, n_init='auto')\n",
    "model.fit(X)\n",
    "labels = model.predict(X)\n",
    "print(labels)\n",
    "print(\"Score:\", accuracy_score(y, labels))"
   ]
  },
  {
   "cell_type": "markdown",
   "id": "9eea00d8",
   "metadata": {},
   "source": [
    "Visualise clustering"
   ]
  },
  {
   "cell_type": "code",
   "execution_count": 36,
   "id": "9580f556",
   "metadata": {},
   "outputs": [
    {
     "data": {
      "image/png": "[encoded data removed]",
      "text/plain": [
       "<Figure size 640x480 with 1 Axes>"
      ]
     },
     "metadata": {},
     "output_type": "display_data"
    }
   ],
   "source": [
    "# Scatter plot\n",
    "plt.scatter(X.iloc[:,0], X.iloc[:,1], c=labels, cmap='viridis')\n",
    "\n",
    "# Plot the centroids of the clusters\n",
    "centers = model.cluster_centers_\n",
    "plt.scatter(centers[:, 0], centers[:, 1], c='red', s=200, alpha=0.75)\n",
    "\n",
    "plt.title('Cluster Visualization')\n",
    "plt.xlabel('Feature 1')\n",
    "plt.ylabel('Feature 2')\n",
    "plt.show()\n"
   ]
  },
  {
   "cell_type": "markdown",
   "id": "e86d5ede",
   "metadata": {},
   "source": [
    "Save the trained model to file"
   ]
  },
  {
   "cell_type": "code",
   "execution_count": 37,
   "id": "b460961b",
   "metadata": {},
   "outputs": [
    {
     "data": {
      "text/plain": [
       "['kmeans_model.pkl']"
      ]
     },
     "execution_count": 37,
     "metadata": {},
     "output_type": "execute_result"
    }
   ],
   "source": [
    "joblib.dump(model, 'kmeans_model.pkl')"
   ]
  }
 ],
 "metadata": {
  "kernelspec": {
   "display_name": "Python 3 (ipykernel)",
   "language": "python",
   "name": "python3"
  },
  "language_info": {
   "codemirror_mode": {
    "name": "ipython",
    "version": 3
   },
   "file_extension": ".py",
   "mimetype": "text/x-python",
   "name": "python",
   "nbconvert_exporter": "python",
   "pygments_lexer": "ipython3",
   "version": "3.11.5"
  }
 },
 "nbformat": 4,
 "nbformat_minor": 5
}
